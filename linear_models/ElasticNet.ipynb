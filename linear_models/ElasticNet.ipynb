{
 "cells": [
  {
   "cell_type": "code",
   "execution_count": 2,
   "metadata": {
    "collapsed": false
   },
   "outputs": [],
   "source": [
    "import numpy as np\n",
    "import matplotlib.pyplot as plt\n",
    "\n",
    "from sklearn.metrics import r2_score\n",
    "%matplotlib inline"
   ]
  },
  {
   "cell_type": "code",
   "execution_count": 3,
   "metadata": {
    "collapsed": true
   },
   "outputs": [],
   "source": [
    "np.random.seed(42)\n",
    "\n",
    "n_samples, n_features = 50, 200\n",
    "X = np.random.randn(n_samples, n_features)\n",
    "coef = 3 * np.random.randn(n_features)\n",
    "inds = np.arange(n_features)"
   ]
  },
  {
   "cell_type": "code",
   "execution_count": 4,
   "metadata": {
    "collapsed": false
   },
   "outputs": [
    {
     "data": {
      "text/plain": [
       "array([[ 0.49671415, -0.1382643 ,  0.64768854, ...,  0.15372511,\n",
       "         0.05820872, -1.1429703 ],\n",
       "       [ 0.35778736,  0.56078453,  1.08305124, ...,  1.35387237,\n",
       "        -0.11453985,  1.23781631],\n",
       "       [-1.59442766, -0.59937502,  0.0052437 , ..., -0.97876372,\n",
       "        -0.44429326,  0.37730049],\n",
       "       ..., \n",
       "       [ 0.71523658, -0.39335112, -1.58718807, ..., -0.03756351,\n",
       "         0.56975892, -0.32417686],\n",
       "       [-2.19750101,  1.26871389,  0.19022322, ...,  0.3753597 ,\n",
       "        -0.11518833, -1.18308552],\n",
       "       [ 0.93381043,  0.50323238,  2.30563684, ..., -0.70531672,\n",
       "         0.49576557,  0.64438845]])"
      ]
     },
     "execution_count": 4,
     "metadata": {},
     "output_type": "execute_result"
    }
   ],
   "source": [
    "X"
   ]
  },
  {
   "cell_type": "code",
   "execution_count": 5,
   "metadata": {
    "collapsed": false
   },
   "outputs": [
    {
     "data": {
      "text/plain": [
       "array([-2.03548419, -0.91649839, -1.79214318,  0.33125414,  3.59153559,\n",
       "       -2.31312647,  3.00246149, -2.34501622, -2.54288164,  2.45578386,\n",
       "        2.76580913,  2.55422981, -3.94739222, -1.39785293,  2.46896578,\n",
       "        0.12462552, -3.22107854,  1.37495382, -2.14442178,  5.38357455,\n",
       "        4.63452439,  1.81229228,  4.08302011,  0.19437405,  2.29631248,\n",
       "        4.43316089,  0.73649605, -0.76556151, -5.11386587, -0.24940058,\n",
       "        2.47026955,  2.83690028,  1.5130952 , -1.62389728, -5.93046471,\n",
       "       -1.48564529, -0.91303461, -0.9387869 ,  1.85566907,  5.95702923,\n",
       "        0.37058761, -0.65019537, -0.77766544,  0.3731543 , -2.48488128,\n",
       "        0.36059568,  1.35243701,  0.62905819,  1.3726258 ,  1.30124283,\n",
       "       -5.31569005,  1.91061048, -2.01304454, -3.28751749, -3.31335548,\n",
       "        1.30062483, -0.66772478, -5.04590635,  1.43411345, -4.31882439,\n",
       "        0.41946408,  0.71549678,  2.65673125,  5.34505436, -4.09402898,\n",
       "       -0.15742157, -0.82900589,  1.30124906,  0.64700631, -1.05763873,\n",
       "       -1.32270657, -3.34935257,  2.96358475,  1.37761254,  2.75330459,\n",
       "       -0.93118841, -1.97050641, -3.2349452 ,  1.07675275, -3.11937967,\n",
       "        5.54598921, -3.92292774,  0.82098036,  4.70056412,  1.79726928,\n",
       "        0.52702114, -2.90545094, -4.14530757,  2.31015033,  4.51844172,\n",
       "       -1.31654997, -3.41718452, -7.37450829, -2.94229453, -0.34097053,\n",
       "        4.79736972,  2.01940108,  0.91525621, -1.20035898, -1.74949715,\n",
       "        4.21694279,  0.60221562, -6.30780208, -2.02061894, -2.5746481 ,\n",
       "       -1.63879203,  1.68873198, -0.32233465, -0.23059622,  3.94041948,\n",
       "       -2.08938327,  5.59259858, -2.01392277,  0.26759459, -0.84361079,\n",
       "        0.3702574 ,  1.33377599,  1.30150572, -2.25935199, -3.36874403,\n",
       "        7.50951537, -1.45195302,  2.09763732, -4.82292393, -0.83883816,\n",
       "       -0.38159815,  1.41844521, -8.16736242,  0.49842184, -3.44922437,\n",
       "        0.97303713, -3.10898759, -2.56644809, -0.82088283, -3.15698841,\n",
       "       -1.42660334, -3.58012731, -5.49951136,  3.05387116, -3.88814608,\n",
       "       -0.53604266,  2.25867324, -1.84483231, -2.4754977 ,  0.67871427,\n",
       "        3.35380147, -3.5079458 , -0.4504435 , -5.19748378, -1.17960301,\n",
       "        0.10261405, -2.56387393, -1.3709755 , -4.2246803 ,  0.23123583,\n",
       "        3.16708275, -3.29143161, -1.8680153 ,  1.50763874,  3.63627216,\n",
       "       -4.47956944, -0.50635421,  0.84939247, -0.30616917, -7.4303762 ,\n",
       "        1.50327003,  4.55800905,  0.34998525, -3.09331816, -1.53938174,\n",
       "        5.3097392 ,  2.72988762,  1.92007986,  1.06923775, -1.98341134,\n",
       "       -0.60171354, -0.23376821,  1.64872295,  4.52675668,  3.35501441,\n",
       "       -4.25815307,  0.67198491,  2.21029004,  1.85658099, -1.88770129,\n",
       "        8.74232765, -3.83125369, -3.24956534,  0.70078524,  6.35040916,\n",
       "       -2.50858455, -0.7974851 ,  3.23188102, -0.05358646, -1.00381156,\n",
       "        1.69689871,  0.81755397,  3.09131636,  3.87440667,  0.92100918])"
      ]
     },
     "execution_count": 5,
     "metadata": {},
     "output_type": "execute_result"
    }
   ],
   "source": [
    "coef"
   ]
  },
  {
   "cell_type": "code",
   "execution_count": 6,
   "metadata": {
    "collapsed": false
   },
   "outputs": [
    {
     "data": {
      "text/plain": [
       "array([  0,   1,   2,   3,   4,   5,   6,   7,   8,   9,  10,  11,  12,\n",
       "        13,  14,  15,  16,  17,  18,  19,  20,  21,  22,  23,  24,  25,\n",
       "        26,  27,  28,  29,  30,  31,  32,  33,  34,  35,  36,  37,  38,\n",
       "        39,  40,  41,  42,  43,  44,  45,  46,  47,  48,  49,  50,  51,\n",
       "        52,  53,  54,  55,  56,  57,  58,  59,  60,  61,  62,  63,  64,\n",
       "        65,  66,  67,  68,  69,  70,  71,  72,  73,  74,  75,  76,  77,\n",
       "        78,  79,  80,  81,  82,  83,  84,  85,  86,  87,  88,  89,  90,\n",
       "        91,  92,  93,  94,  95,  96,  97,  98,  99, 100, 101, 102, 103,\n",
       "       104, 105, 106, 107, 108, 109, 110, 111, 112, 113, 114, 115, 116,\n",
       "       117, 118, 119, 120, 121, 122, 123, 124, 125, 126, 127, 128, 129,\n",
       "       130, 131, 132, 133, 134, 135, 136, 137, 138, 139, 140, 141, 142,\n",
       "       143, 144, 145, 146, 147, 148, 149, 150, 151, 152, 153, 154, 155,\n",
       "       156, 157, 158, 159, 160, 161, 162, 163, 164, 165, 166, 167, 168,\n",
       "       169, 170, 171, 172, 173, 174, 175, 176, 177, 178, 179, 180, 181,\n",
       "       182, 183, 184, 185, 186, 187, 188, 189, 190, 191, 192, 193, 194,\n",
       "       195, 196, 197, 198, 199])"
      ]
     },
     "execution_count": 6,
     "metadata": {},
     "output_type": "execute_result"
    }
   ],
   "source": [
    "inds"
   ]
  },
  {
   "cell_type": "code",
   "execution_count": 7,
   "metadata": {
    "collapsed": true
   },
   "outputs": [],
   "source": [
    "np.random.shuffle(inds)"
   ]
  },
  {
   "cell_type": "code",
   "execution_count": 8,
   "metadata": {
    "collapsed": false
   },
   "outputs": [
    {
     "data": {
      "text/plain": [
       "array([112,  39, 159, 167, 115, 187,  26,  11,  80, 113, 180,  71,  49,\n",
       "       148,   4, 127, 195, 158,  79,  54,  16,   6, 114,  27, 161, 182,\n",
       "        28,  74,  87, 121,  25, 147, 141,  42, 189, 166, 162, 156, 192,\n",
       "        96, 125, 160, 117,  38,  72,  40, 100, 151,  12,  97,  70,  60,\n",
       "        67, 194,  66,   7, 157, 193, 170,  10,  98,  47, 109,  68, 178,\n",
       "       154,   8,  31,  57,  35,  99, 168,  18, 128, 129,  81,  32,  94,\n",
       "       138,  73,  34, 108, 130, 105,  56,  65, 185, 177, 186, 150,  24,\n",
       "        53, 119, 145,  82, 173,  30,  29, 116,   3, 140,  64,   5, 126,\n",
       "        44,  84,  91,  13,  92,  21, 131,   0,  48, 110, 102, 184,   2,\n",
       "        62,  93,  86, 164,   1, 174,  19,  17,  36,  95,  15, 103, 196,\n",
       "       143, 149, 153, 169,  41,  78, 190, 134, 139, 107,  20,  69, 122,\n",
       "       135,  76, 123,  33, 198,  50, 104,  14, 176, 101, 152, 120, 171,\n",
       "       124, 181,  58,  55,  85, 163, 165, 155, 118, 199, 197, 144,  23,\n",
       "       175,  90, 183,  83, 188,  45,  51,  43,  22, 191,  52,  77, 132,\n",
       "       172,  46, 142, 133,  37, 106, 146,  59,  89,  61,   9, 137, 136,\n",
       "        75, 111,  88, 179,  63])"
      ]
     },
     "execution_count": 8,
     "metadata": {},
     "output_type": "execute_result"
    }
   ],
   "source": [
    "inds"
   ]
  },
  {
   "cell_type": "code",
   "execution_count": 9,
   "metadata": {
    "collapsed": true
   },
   "outputs": [],
   "source": [
    "coef[inds[10:]] = 0  # sparsify coef"
   ]
  },
  {
   "cell_type": "code",
   "execution_count": 10,
   "metadata": {
    "collapsed": false
   },
   "outputs": [
    {
     "data": {
      "text/plain": [
       "array([ 0.        ,  0.        ,  0.        ,  0.        ,  0.        ,\n",
       "        0.        ,  0.        ,  0.        ,  0.        ,  0.        ,\n",
       "        0.        ,  2.55422981,  0.        ,  0.        ,  0.        ,\n",
       "        0.        ,  0.        ,  0.        ,  0.        ,  0.        ,\n",
       "        0.        ,  0.        ,  0.        ,  0.        ,  0.        ,\n",
       "        0.        ,  0.73649605,  0.        ,  0.        ,  0.        ,\n",
       "        0.        ,  0.        ,  0.        ,  0.        ,  0.        ,\n",
       "        0.        ,  0.        ,  0.        ,  0.        ,  5.95702923,\n",
       "        0.        ,  0.        ,  0.        ,  0.        ,  0.        ,\n",
       "        0.        ,  0.        ,  0.        ,  0.        ,  0.        ,\n",
       "        0.        ,  0.        ,  0.        ,  0.        ,  0.        ,\n",
       "        0.        ,  0.        ,  0.        ,  0.        ,  0.        ,\n",
       "        0.        ,  0.        ,  0.        ,  0.        ,  0.        ,\n",
       "        0.        ,  0.        ,  0.        ,  0.        ,  0.        ,\n",
       "        0.        ,  0.        ,  0.        ,  0.        ,  0.        ,\n",
       "        0.        ,  0.        ,  0.        ,  0.        ,  0.        ,\n",
       "        5.54598921,  0.        ,  0.        ,  0.        ,  0.        ,\n",
       "        0.        ,  0.        ,  0.        ,  0.        ,  0.        ,\n",
       "        0.        ,  0.        ,  0.        ,  0.        ,  0.        ,\n",
       "        0.        ,  0.        ,  0.        ,  0.        ,  0.        ,\n",
       "        0.        ,  0.        ,  0.        ,  0.        ,  0.        ,\n",
       "        0.        ,  0.        ,  0.        ,  0.        ,  0.        ,\n",
       "        0.        ,  0.        , -2.01392277,  0.26759459,  0.        ,\n",
       "        0.3702574 ,  0.        ,  0.        ,  0.        ,  0.        ,\n",
       "        0.        ,  0.        ,  0.        ,  0.        ,  0.        ,\n",
       "        0.        ,  0.        ,  0.        ,  0.        ,  0.        ,\n",
       "        0.        ,  0.        ,  0.        ,  0.        ,  0.        ,\n",
       "        0.        ,  0.        ,  0.        ,  0.        ,  0.        ,\n",
       "        0.        ,  0.        ,  0.        ,  0.        ,  0.        ,\n",
       "        0.        ,  0.        ,  0.        ,  0.        ,  0.        ,\n",
       "        0.        ,  0.        ,  0.        ,  0.        ,  0.        ,\n",
       "        0.        ,  0.        ,  0.        ,  0.        ,  3.63627216,\n",
       "        0.        ,  0.        ,  0.        ,  0.        ,  0.        ,\n",
       "        0.        ,  0.        ,  0.34998525,  0.        ,  0.        ,\n",
       "        0.        ,  0.        ,  0.        ,  0.        ,  0.        ,\n",
       "        0.        ,  0.        ,  0.        ,  0.        ,  0.        ,\n",
       "        0.        ,  0.        ,  0.        ,  0.        ,  0.        ,\n",
       "        0.        ,  0.        , -3.24956534,  0.        ,  0.        ,\n",
       "        0.        ,  0.        ,  0.        ,  0.        ,  0.        ,\n",
       "        0.        ,  0.        ,  0.        ,  0.        ,  0.        ])"
      ]
     },
     "execution_count": 10,
     "metadata": {},
     "output_type": "execute_result"
    }
   ],
   "source": [
    "coef"
   ]
  },
  {
   "cell_type": "code",
   "execution_count": 11,
   "metadata": {
    "collapsed": true
   },
   "outputs": [],
   "source": [
    "y = np.dot(X, coef)"
   ]
  },
  {
   "cell_type": "code",
   "execution_count": 12,
   "metadata": {
    "collapsed": false
   },
   "outputs": [
    {
     "data": {
      "text/plain": [
       "array([  1.85454808,  -1.88185275,  -3.22753722,  -1.29637962,\n",
       "        12.21021156,   3.09834518,   0.83311376,  12.60558   ,\n",
       "         3.29040286,   1.41273462,  -9.24393601,   0.82443959,\n",
       "        -5.38482466,   8.74127838, -16.23212532,   7.61936206,\n",
       "       -10.89723881,  -5.88004681,  -1.75512379,  -0.46345128,\n",
       "        -5.8950359 ,  17.7640346 ,  -3.97835215, -19.89832756,\n",
       "        -2.75872327,  -7.07454408,   3.74977501,  20.06851876,\n",
       "        -4.15553144,  -8.24155577,   4.26803734,   3.33670968,\n",
       "        13.20475772,   2.44885748, -10.51464129, -13.90984428,\n",
       "        -5.76433803,  -1.73589121, -18.96316779,  -9.77324314,\n",
       "         8.38704103,  -9.83929643,  15.54698292,   0.15803178,\n",
       "        -6.68972473,  -3.45724035, -10.4518149 ,  -5.885115  ,\n",
       "        -6.83404273,  -0.98061547])"
      ]
     },
     "execution_count": 12,
     "metadata": {},
     "output_type": "execute_result"
    }
   ],
   "source": [
    "y"
   ]
  },
  {
   "cell_type": "code",
   "execution_count": 13,
   "metadata": {
    "collapsed": true
   },
   "outputs": [],
   "source": [
    "y += 0.01 * np.random.normal((n_samples,))"
   ]
  },
  {
   "cell_type": "code",
   "execution_count": 14,
   "metadata": {
    "collapsed": false
   },
   "outputs": [
    {
     "data": {
      "text/plain": [
       "array([  2.35193526,  -1.38446556,  -2.73015004,  -0.79899244,\n",
       "        12.70759875,   3.59573237,   1.33050094,  13.10296718,\n",
       "         3.78779004,   1.9101218 ,  -8.74654883,   1.32182677,\n",
       "        -4.88743747,   9.23866556, -15.73473813,   8.11674925,\n",
       "       -10.39985162,  -5.38265962,  -1.2577366 ,   0.0339359 ,\n",
       "        -5.39764872,  18.26142178,  -3.48096496, -19.40094038,\n",
       "        -2.26133609,  -6.57715689,   4.2471622 ,  20.56590595,\n",
       "        -3.65814425,  -7.74416858,   4.76542452,   3.83409686,\n",
       "        13.7021449 ,   2.94624467, -10.01725411, -13.4124571 ,\n",
       "        -5.26695084,  -1.23850403, -18.4657806 ,  -9.27585596,\n",
       "         8.88442821,  -9.34190925,  16.04437011,   0.65541897,\n",
       "        -6.19233755,  -2.95985316,  -9.95442772,  -5.38772782,\n",
       "        -6.33665554,  -0.48322829])"
      ]
     },
     "execution_count": 14,
     "metadata": {},
     "output_type": "execute_result"
    }
   ],
   "source": [
    "y"
   ]
  },
  {
   "cell_type": "markdown",
   "metadata": {},
   "source": [
    "## Model Training"
   ]
  },
  {
   "cell_type": "code",
   "execution_count": 15,
   "metadata": {
    "collapsed": true
   },
   "outputs": [],
   "source": [
    "# Split data in train set and test set\n",
    "n_samples = X.shape[0]\n",
    "X_train, y_train = X[:n_samples / 2], y[:n_samples / 2]\n",
    "X_test, y_test = X[n_samples / 2:], y[n_samples / 2:]"
   ]
  },
  {
   "cell_type": "code",
   "execution_count": 17,
   "metadata": {
    "collapsed": false
   },
   "outputs": [
    {
     "name": "stdout",
     "output_type": "stream",
     "text": [
      "Lasso(alpha=0.1, copy_X=True, fit_intercept=True, max_iter=1000,\n",
      "   normalize=False, positive=False, precompute=False, random_state=None,\n",
      "   selection='cyclic', tol=0.0001, warm_start=False)\n",
      "r^2 on test data : 0.384710\n"
     ]
    }
   ],
   "source": [
    "from sklearn.linear_model import Lasso\n",
    "\n",
    "alpha = 0.1\n",
    "lasso = Lasso(alpha=alpha)\n",
    "\n",
    "y_pred_lasso = lasso.fit(X_train, y_train).predict(X_test)\n",
    "r2_score_lasso = r2_score(y_test, y_pred_lasso)\n",
    "\n",
    "print(lasso)\n",
    "print(\"r^2 on test data : %f\" % r2_score_lasso)"
   ]
  },
  {
   "cell_type": "code",
   "execution_count": 18,
   "metadata": {
    "collapsed": false
   },
   "outputs": [
    {
     "name": "stdout",
     "output_type": "stream",
     "text": [
      "ElasticNet(alpha=0.1, copy_X=True, fit_intercept=True, l1_ratio=0.7,\n",
      "      max_iter=1000, normalize=False, positive=False, precompute=False,\n",
      "      random_state=None, selection='cyclic', tol=0.0001, warm_start=False)\n",
      "r^2 on test data : 0.240176\n"
     ]
    }
   ],
   "source": [
    "from sklearn.linear_model import ElasticNet\n",
    "\n",
    "enet = ElasticNet(alpha=alpha, l1_ratio=0.7)\n",
    "\n",
    "y_pred_enet = enet.fit(X_train, y_train).predict(X_test)\n",
    "r2_score_enet = r2_score(y_test, y_pred_enet)\n",
    "print(enet)\n",
    "print(\"r^2 on test data : %f\" % r2_score_enet)"
   ]
  },
  {
   "cell_type": "markdown",
   "metadata": {},
   "source": [
    "## Plot "
   ]
  },
  {
   "cell_type": "code",
   "execution_count": 20,
   "metadata": {
    "collapsed": false
   },
   "outputs": [
    {
     "data": {
      "text/plain": [
       "<matplotlib.text.Text at 0x10d44add0>"
      ]
     },
     "execution_count": 20,
     "metadata": {},
     "output_type": "execute_result"
    },
    {
     "data": {
      "image/png": "[encoded data removed]",
      "text/plain": [
       "<matplotlib.figure.Figure at 0x10d1b3d10>"
      ]
     },
     "metadata": {},
     "output_type": "display_data"
    }
   ],
   "source": [
    "plt.figure(figsize=(8, 8))\n",
    "plt.plot(enet.coef_, color='lightgreen', linewidth=2,\n",
    "         label='Elastic net coefficients')\n",
    "plt.plot(lasso.coef_, color='gold', linewidth=2,\n",
    "         label='Lasso coefficients')\n",
    "plt.plot(coef, '--', color='navy', label='original coefficients')\n",
    "plt.legend(loc='best')\n",
    "plt.title(\"Lasso R^2: %f, Elastic Net R^2: %f\"\n",
    "          % (r2_score_lasso, r2_score_enet))"
   ]
  },
  {
   "cell_type": "code",
   "execution_count": null,
   "metadata": {
    "collapsed": true
   },
   "outputs": [],
   "source": []
  }
 ],
 "metadata": {
  "anaconda-cloud": {},
  "kernelspec": {
   "display_name": "Python [conda root]",
   "language": "python",
   "name": "conda-root-py"
  },
  "language_info": {
   "codemirror_mode": {
    "name": "ipython",
    "version": 2
   },
   "file_extension": ".py",
   "mimetype": "text/x-python",
   "name": "python",
   "nbconvert_exporter": "python",
   "pygments_lexer": "ipython2",
   "version": "2.7.12"
  }
 },
 "nbformat": 4,
 "nbformat_minor": 1
}
